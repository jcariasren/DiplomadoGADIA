{
  "nbformat": 4,
  "nbformat_minor": 0,
  "metadata": {
    "colab": {
      "provenance": [],
      "authorship_tag": "ABX9TyOgovt+mVMzWlfuClOHbxW3",
      "include_colab_link": true
    },
    "kernelspec": {
      "name": "python3",
      "display_name": "Python 3"
    },
    "language_info": {
      "name": "python"
    }
  },
  "cells": [
    {
      "cell_type": "markdown",
      "metadata": {
        "id": "view-in-github",
        "colab_type": "text"
      },
      "source": [
        "<a href=\"https://colab.research.google.com/github/jcariasren/DiplomadoGADIA/blob/main/Librerias.ipynb\" target=\"_parent\"><img src=\"https://colab.research.google.com/assets/colab-badge.svg\" alt=\"Open In Colab\"/></a>"
      ]
    },
    {
      "cell_type": "code",
      "execution_count": 2,
      "metadata": {
        "id": "qo47GhXd73Rh"
      },
      "outputs": [],
      "source": [
        "import pandas as pd\n",
        "import matplotlib.pyplot as plt\n",
        "import seaborn as sns\n",
        "import numpy as np\n",
        "from sklearn.linear_model import LinearRegression"
      ]
    },
    {
      "cell_type": "code",
      "source": [
        "# Conectarse a la fuente de datos\n",
        "salarios = pd.read_csv (\"/content/sample_data/Salary_Data (1).csv\")\n",
        "salarios.head(10)"
      ],
      "metadata": {
        "id": "9TUkJIF377S2"
      },
      "execution_count": null,
      "outputs": []
    },
    {
      "cell_type": "code",
      "source": [
        "# Revisar las columnas que componen el dataset\n",
        "salarios.columns"
      ],
      "metadata": {
        "colab": {
          "base_uri": "https://localhost:8080/"
        },
        "id": "IxUZKUtr9fOb",
        "outputId": "52948947-ae70-42cc-d59a-59d383d5c1a5"
      },
      "execution_count": 10,
      "outputs": [
        {
          "output_type": "execute_result",
          "data": {
            "text/plain": [
              "Index(['YearsExperience', 'Salary'], dtype='object')"
            ]
          },
          "metadata": {},
          "execution_count": 10
        }
      ]
    },
    {
      "cell_type": "code",
      "source": [
        "# Medidas de tendencias central\n",
        "salarios.describe()"
      ],
      "metadata": {
        "id": "MuVzlRuk95y0"
      },
      "execution_count": null,
      "outputs": []
    },
    {
      "cell_type": "code",
      "source": [
        "# Tipo de dato por columna\n",
        "type(salarios)"
      ],
      "metadata": {
        "id": "_A4kE1lh-W7k"
      },
      "execution_count": null,
      "outputs": []
    },
    {
      "cell_type": "code",
      "source": [
        "# Tipo de datos por columna\n",
        "salarios.dtypes"
      ],
      "metadata": {
        "id": "oJvm7qz7-9lz"
      },
      "execution_count": null,
      "outputs": []
    },
    {
      "cell_type": "code",
      "source": [
        "#Cambiar nombres de columnas\n",
        "salarios= salarios.rename(columns={\"Salary\":\"Salario\"})\n",
        "salarios= salarios.rename(columns={\"YearsExperience\":\"Años de Experiencia\"})"
      ],
      "metadata": {
        "id": "JNIZf_IE_Wfj"
      },
      "execution_count": 15,
      "outputs": []
    },
    {
      "cell_type": "code",
      "source": [
        "salarios"
      ],
      "metadata": {
        "id": "gBCtvxr4AHVz"
      },
      "execution_count": null,
      "outputs": []
    },
    {
      "cell_type": "code",
      "source": [
        "#Extraer columna de un dataframe\n",
        "anios_de_experiencia=salarios[\"Años de Experiencia\"]"
      ],
      "metadata": {
        "id": "5uCrr8oJAOjD"
      },
      "execution_count": 18,
      "outputs": []
    },
    {
      "cell_type": "code",
      "source": [
        "anios_de_experiencia"
      ],
      "metadata": {
        "id": "Lfe86IDDAw52"
      },
      "execution_count": null,
      "outputs": []
    },
    {
      "cell_type": "code",
      "source": [
        "# Agrupacion de valores con pandas\n",
        "salarios[\"Salario\"].sum()"
      ],
      "metadata": {
        "colab": {
          "base_uri": "https://localhost:8080/"
        },
        "id": "cwSrcT__A8OD",
        "outputId": "e7bf72c2-afa3-45b1-d327-7afba5f7457a"
      },
      "execution_count": 20,
      "outputs": [
        {
          "output_type": "execute_result",
          "data": {
            "text/plain": [
              "2280090.0"
            ]
          },
          "metadata": {},
          "execution_count": 20
        }
      ]
    },
    {
      "cell_type": "markdown",
      "source": [
        "# Regresion lineal"
      ],
      "metadata": {
        "id": "_8dJE36C8emP"
      }
    },
    {
      "cell_type": "code",
      "source": [
        "# Grafica de dispersion: Salario vs experiencia\n",
        "# La primera parte es del eje x y la segunda del eje Y\n",
        "\n",
        "Y = salarios[\"Salario\"]\n",
        "X = salarios[\"Años de experiencia\"]\n",
        "\n",
        "# \"scatter\" es un tipo de grafica de dispersión\n",
        "\n",
        "plt.scatter(X,Y,color=\"red\")\n",
        "\n"
      ],
      "metadata": {
        "id": "GGJ0dw3qBLNj"
      },
      "execution_count": null,
      "outputs": []
    }
  ]
}