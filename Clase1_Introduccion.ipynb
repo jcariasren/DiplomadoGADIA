{
  "nbformat": 4,
  "nbformat_minor": 0,
  "metadata": {
    "colab": {
      "provenance": [],
      "authorship_tag": "ABX9TyMjVbPAu5gqUMw5k4CaEOle",
      "include_colab_link": true
    },
    "kernelspec": {
      "name": "python3",
      "display_name": "Python 3"
    },
    "language_info": {
      "name": "python"
    }
  },
  "cells": [
    {
      "cell_type": "markdown",
      "metadata": {
        "id": "view-in-github",
        "colab_type": "text"
      },
      "source": [
        "<a href=\"https://colab.research.google.com/github/jcariasren/DiplomadoGADIA/blob/main/Clase1_Introduccion.ipynb\" target=\"_parent\"><img src=\"https://colab.research.google.com/assets/colab-badge.svg\" alt=\"Open In Colab\"/></a>"
      ]
    },
    {
      "cell_type": "markdown",
      "source": [
        "**INTRODUCCIÓN A PYTHON**\n",
        "\n",
        "DIPLOMADO EN GOBIERNO Y ANALITICA DE DATOS\n",
        "\n",
        "FUNDACION UNIVERSITARIA CAFAM\n",
        "\n",
        "DOCENTE: NICOLAS MOJICA GOMEZ\n",
        "\n",
        "ESTUDIANTE: JUAN CARLOS ARIAS RENTERIA\n",
        "\n",
        "\n",
        "\n",
        "---\n",
        "\n"
      ],
      "metadata": {
        "id": "sw2sTcdxqHfJ"
      }
    },
    {
      "cell_type": "markdown",
      "source": [
        "## 1. Comentario en los códigos\n",
        "\n",
        "Para comentar códigos en python existen diferentes formas de crear comentarios, esto nos permite comentar nustras secuencias de comandos para su analisis o posterior modificación."
      ],
      "metadata": {
        "id": "rbnQsLQcrqm5"
      }
    },
    {
      "cell_type": "code",
      "execution_count": 2,
      "metadata": {
        "colab": {
          "base_uri": "https://localhost:8080/"
        },
        "id": "HEBt83NyotpS",
        "outputId": "f86ed635-29aa-41cc-8dcc-9b9021586b63"
      },
      "outputs": [
        {
          "output_type": "stream",
          "name": "stdout",
          "text": [
            "Hola mundo\n"
          ]
        }
      ],
      "source": [
        "# Este comantario es de una sola linea\n",
        "#Python es un programa sensible a las mayusculas y las minusculas\n",
        "print(\"Hola mundo\")\n"
      ]
    },
    {
      "cell_type": "code",
      "source": [
        "'''\n",
        "Este es un comentario de multiples lineas\n",
        "puede extenderse en varias lineas\n",
        "'''\n",
        "print (\"Hola mundo 2\")"
      ],
      "metadata": {
        "colab": {
          "base_uri": "https://localhost:8080/"
        },
        "id": "9GCY28wivjja",
        "outputId": "7dec7fb7-e133-464d-cd33-93f14b1d052b"
      },
      "execution_count": 8,
      "outputs": [
        {
          "output_type": "stream",
          "name": "stdout",
          "text": [
            "Hola mundo 2\n"
          ]
        }
      ]
    },
    {
      "cell_type": "markdown",
      "source": [
        "## 2. Variables\n",
        "\n",
        "Una variable es un elemento de un lenguaje de programacion que tiene asignado un valor determinado"
      ],
      "metadata": {
        "id": "AbJFTEPAwSvR"
      }
    },
    {
      "cell_type": "code",
      "source": [
        "## Para crear una variable en Python, se le debe proporcionar un nombre y se le debe asignar un valor usando un \"=\"\n",
        "var=\"Hola mundo\"\n",
        "print(var)"
      ],
      "metadata": {
        "colab": {
          "base_uri": "https://localhost:8080/"
        },
        "id": "31rw9_qvwO6o",
        "outputId": "95ae90e3-321a-45fc-d97f-afafab118810"
      },
      "execution_count": 6,
      "outputs": [
        {
          "output_type": "stream",
          "name": "stdout",
          "text": [
            "Hola mundo\n"
          ]
        }
      ]
    },
    {
      "cell_type": "code",
      "source": [
        "## Las variables pueden cambiar a lo largo del programa en Python\n",
        "var=\"Adios mundo var\"\n",
        "print(var)"
      ],
      "metadata": {
        "colab": {
          "base_uri": "https://localhost:8080/"
        },
        "id": "5shOHTR2xpFo",
        "outputId": "59532fe3-5f0d-4a7e-8bd3-969832af002e"
      },
      "execution_count": 9,
      "outputs": [
        {
          "output_type": "stream",
          "name": "stdout",
          "text": [
            "Adios mundo var\n"
          ]
        }
      ]
    },
    {
      "cell_type": "code",
      "source": [
        "## Las variables en Python son sensibles a las mayusculas y a las minusculas\n"
      ],
      "metadata": {
        "id": "5nERJ1ByyDqY"
      },
      "execution_count": null,
      "outputs": []
    },
    {
      "cell_type": "markdown",
      "source": [
        "## 3. Tipos de datos\n"
      ],
      "metadata": {
        "id": "pzpy_wHr4p0q"
      }
    },
    {
      "cell_type": "code",
      "source": [
        "# Tipos de datos numericos\n",
        "entero=42\n",
        "# En la mayor parte de lenguajes de programacion los enteros son representados con \"int\"\n"
      ],
      "metadata": {
        "id": "gRKqmHvs5PSa"
      },
      "execution_count": 11,
      "outputs": []
    },
    {
      "cell_type": "code",
      "source": [
        "# Tipo de datos flotante\n",
        "flotante=3.14151"
      ],
      "metadata": {
        "id": "EiaEGay55TJb"
      },
      "execution_count": 12,
      "outputs": []
    },
    {
      "cell_type": "code",
      "source": [
        "# Conversion de los tipos de datos\n",
        "# Convertir un flotante a un numero entero\n",
        "entero=int(3.14)\n",
        "print(entero)"
      ],
      "metadata": {
        "colab": {
          "base_uri": "https://localhost:8080/"
        },
        "id": "tsqc9R4b5_lY",
        "outputId": "76efa063-a53e-4724-85e7-3d96e240d49b"
      },
      "execution_count": 13,
      "outputs": [
        {
          "output_type": "stream",
          "name": "stdout",
          "text": [
            "3\n"
          ]
        }
      ]
    },
    {
      "cell_type": "code",
      "source": [
        "# Convertir entero a flotante\n",
        "flotante=float(5)\n",
        "print(flotante)"
      ],
      "metadata": {
        "colab": {
          "base_uri": "https://localhost:8080/"
        },
        "id": "l-2HGyB-6_Qp",
        "outputId": "fd7c3a54-c3a1-4a35-db35-f578798c8ee1"
      },
      "execution_count": 14,
      "outputs": [
        {
          "output_type": "stream",
          "name": "stdout",
          "text": [
            "5.0\n"
          ]
        }
      ]
    },
    {
      "cell_type": "markdown",
      "source": [
        "## 4. Operadores aritmeticos\n",
        "\n",
        "Los operadores matematicos se utilizan para realizar operaciones comunes como la adiccion, la sustraccion y multiplicacion etc.."
      ],
      "metadata": {
        "id": "BxHxSrDY7kUZ"
      }
    },
    {
      "cell_type": "code",
      "source": [
        "# Suma\n",
        "a=10\n",
        "b=5\n",
        "print(a+b)"
      ],
      "metadata": {
        "colab": {
          "base_uri": "https://localhost:8080/"
        },
        "id": "5YA1Zhae7T4a",
        "outputId": "1fc739ad-7d5d-437f-aecf-8f3f77c58b53"
      },
      "execution_count": 18,
      "outputs": [
        {
          "output_type": "stream",
          "name": "stdout",
          "text": [
            "15\n"
          ]
        }
      ]
    },
    {
      "cell_type": "code",
      "source": [
        "# Resta\n",
        "c=a-b\n",
        "print(c)"
      ],
      "metadata": {
        "colab": {
          "base_uri": "https://localhost:8080/"
        },
        "id": "nUrqC6q28VQr",
        "outputId": "a822fa14-f8af-4f18-a7ec-61cdc9165f68"
      },
      "execution_count": 19,
      "outputs": [
        {
          "output_type": "stream",
          "name": "stdout",
          "text": [
            "5\n"
          ]
        }
      ]
    },
    {
      "cell_type": "code",
      "source": [
        "# Multiplicacion\n",
        "d=a*b\n",
        "print(d)"
      ],
      "metadata": {
        "colab": {
          "base_uri": "https://localhost:8080/"
        },
        "id": "fZma2Bo58fjZ",
        "outputId": "5ea2927d-b0bc-4eb2-bd03-074e715517b8"
      },
      "execution_count": 17,
      "outputs": [
        {
          "output_type": "stream",
          "name": "stdout",
          "text": [
            "50\n"
          ]
        }
      ]
    },
    {
      "cell_type": "code",
      "source": [
        "# Division\n",
        "e=a/b\n",
        "print(e)\n"
      ],
      "metadata": {
        "colab": {
          "base_uri": "https://localhost:8080/"
        },
        "id": "bS4A62XZ8q0q",
        "outputId": "e4d38b0d-1f88-4857-863f-dade299278c9"
      },
      "execution_count": 35,
      "outputs": [
        {
          "output_type": "stream",
          "name": "stdout",
          "text": [
            "2.0\n"
          ]
        }
      ]
    },
    {
      "cell_type": "code",
      "source": [
        "# Division entera\n",
        "print(a//b)"
      ],
      "metadata": {
        "colab": {
          "base_uri": "https://localhost:8080/"
        },
        "id": "wsgpx3SNAu5c",
        "outputId": "db44712f-5808-4985-8fdc-5dae165e8a56"
      },
      "execution_count": 36,
      "outputs": [
        {
          "output_type": "stream",
          "name": "stdout",
          "text": [
            "2\n"
          ]
        }
      ]
    },
    {
      "cell_type": "code",
      "source": [
        "# Modulo, residuo de una operacion\n",
        "print(a % b)"
      ],
      "metadata": {
        "colab": {
          "base_uri": "https://localhost:8080/"
        },
        "id": "eRp3D92pBDDL",
        "outputId": "633df9b3-4763-4d53-b7b6-6f24b4214603"
      },
      "execution_count": 37,
      "outputs": [
        {
          "output_type": "stream",
          "name": "stdout",
          "text": [
            "0\n"
          ]
        }
      ]
    },
    {
      "cell_type": "code",
      "source": [
        "# Exponenciacion\n",
        "print(a**b)"
      ],
      "metadata": {
        "colab": {
          "base_uri": "https://localhost:8080/"
        },
        "id": "0hn6Jf6vBbWL",
        "outputId": "6a8b03bc-2d10-4558-db63-ec0e6d89e2d2"
      },
      "execution_count": 39,
      "outputs": [
        {
          "output_type": "stream",
          "name": "stdout",
          "text": [
            "100000\n"
          ]
        }
      ]
    },
    {
      "cell_type": "code",
      "source": [
        "# Asignacion compuesta\n",
        "a+=b\n",
        "print(a)"
      ],
      "metadata": {
        "colab": {
          "base_uri": "https://localhost:8080/"
        },
        "id": "mmG8dULeBint",
        "outputId": "05bb27e9-d0e4-4f23-8ea0-847ffd15f940"
      },
      "execution_count": 40,
      "outputs": [
        {
          "output_type": "stream",
          "name": "stdout",
          "text": [
            "15\n"
          ]
        }
      ]
    },
    {
      "cell_type": "code",
      "source": [
        "print(a)"
      ],
      "metadata": {
        "colab": {
          "base_uri": "https://localhost:8080/"
        },
        "id": "7bKP60vIB6Op",
        "outputId": "5d236cf5-c356-4332-f4cb-c2019889782d"
      },
      "execution_count": 41,
      "outputs": [
        {
          "output_type": "stream",
          "name": "stdout",
          "text": [
            "15\n"
          ]
        }
      ]
    },
    {
      "cell_type": "code",
      "source": [
        "a-b\n",
        "print(a)"
      ],
      "metadata": {
        "colab": {
          "base_uri": "https://localhost:8080/"
        },
        "id": "hayD9lMXCICa",
        "outputId": "4617487e-79b0-4a2c-f9d1-f675f084cc7f"
      },
      "execution_count": 43,
      "outputs": [
        {
          "output_type": "stream",
          "name": "stdout",
          "text": [
            "10\n"
          ]
        }
      ]
    },
    {
      "cell_type": "code",
      "source": [
        "# Redondeo\n",
        "var4=3.1410\n",
        "print(round(var4,2))"
      ],
      "metadata": {
        "colab": {
          "base_uri": "https://localhost:8080/"
        },
        "id": "BS6PqKQSCejZ",
        "outputId": "35669e82-0600-4775-cdd5-d0c8efaff390"
      },
      "execution_count": 45,
      "outputs": [
        {
          "output_type": "stream",
          "name": "stdout",
          "text": [
            "3.14\n"
          ]
        }
      ]
    },
    {
      "cell_type": "code",
      "source": [],
      "metadata": {
        "id": "stT-_Kn4DB9a"
      },
      "execution_count": null,
      "outputs": []
    },
    {
      "cell_type": "markdown",
      "source": [
        "## Ejercicio 4: Operadores Matematicos\n",
        "![Ejercicio 4.png](data:image/png;base64,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)"
      ],
      "metadata": {
        "id": "0wTIu1m4GZis"
      }
    },
    {
      "cell_type": "code",
      "source": [
        "# 1.\n",
        "a=10\n",
        "b=3"
      ],
      "metadata": {
        "id": "FmXJ_Q0XGmLK"
      },
      "execution_count": 46,
      "outputs": []
    },
    {
      "cell_type": "code",
      "source": [
        "# 2.\n",
        "suma=a+b"
      ],
      "metadata": {
        "id": "qzszYQQSH66O"
      },
      "execution_count": 47,
      "outputs": []
    },
    {
      "cell_type": "code",
      "source": [
        "# 3.\n",
        "resta=a-b"
      ],
      "metadata": {
        "id": "TD7xspagICvM"
      },
      "execution_count": 48,
      "outputs": []
    },
    {
      "cell_type": "code",
      "source": [
        "# 4.\n",
        "multiplicacion=a*b"
      ],
      "metadata": {
        "id": "C0SZLhfoIOB8"
      },
      "execution_count": 49,
      "outputs": []
    },
    {
      "cell_type": "code",
      "source": [
        "# 5.\n",
        "division=a/b"
      ],
      "metadata": {
        "id": "8IAHXItUIfOe"
      },
      "execution_count": 50,
      "outputs": []
    },
    {
      "cell_type": "code",
      "source": [
        "# 6.\n",
        "modulo=a%b"
      ],
      "metadata": {
        "id": "fsejTKquIlo7"
      },
      "execution_count": 51,
      "outputs": []
    },
    {
      "cell_type": "code",
      "source": [
        "# 7.\n",
        "potencia=a**b"
      ],
      "metadata": {
        "id": "exHnIkbTIzFr"
      },
      "execution_count": 52,
      "outputs": []
    },
    {
      "cell_type": "code",
      "source": [
        "# 8.\n",
        "division_entera=a//b"
      ],
      "metadata": {
        "id": "esMn7m-iJBc7"
      },
      "execution_count": 53,
      "outputs": []
    },
    {
      "cell_type": "code",
      "source": [
        "# Imprimir todo el resultado\n",
        "print(\"Suma=\",suma)\n",
        "print(\"Resta=\",resta)\n",
        "print(\"Multiplicacion=\",multiplicacion)\n",
        "print(\"Division=\",division)\n",
        "print(\"Modulo=\",modulo)\n",
        "print(\"Potencia\",potencia)\n",
        "print(\"Division_entera=\",division_entera)"
      ],
      "metadata": {
        "colab": {
          "base_uri": "https://localhost:8080/"
        },
        "id": "X-7K2nH8JN2r",
        "outputId": "efb23545-7e50-4d59-8c29-b4a2317ae2f4"
      },
      "execution_count": 56,
      "outputs": [
        {
          "output_type": "stream",
          "name": "stdout",
          "text": [
            "Suma= 13\n",
            "Resta= 7\n",
            "Multiplicacion= 30\n",
            "Division= 3.3333333333333335\n",
            "Modulo= 1\n",
            "Potencia 1000\n",
            "Division_entera= 3\n"
          ]
        }
      ]
    },
    {
      "cell_type": "code",
      "source": [],
      "metadata": {
        "id": "V3IKWfn4JR_b"
      },
      "execution_count": null,
      "outputs": []
    }
  ]
}